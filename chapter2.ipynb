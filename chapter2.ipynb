{
  "nbformat": 4,
  "nbformat_minor": 0,
  "metadata": {
    "colab": {
      "provenance": [],
      "authorship_tag": "ABX9TyNZnJzOR8jx21xYEf0t8spk",
      "include_colab_link": true
    },
    "kernelspec": {
      "name": "python3",
      "display_name": "Python 3"
    },
    "language_info": {
      "name": "python"
    }
  },
  "cells": [
    {
      "cell_type": "markdown",
      "metadata": {
        "id": "view-in-github",
        "colab_type": "text"
      },
      "source": [
        "<a href=\"https://colab.research.google.com/github/bernaldiaz/pymae_python_mechanical/blob/master/chapter2.ipynb\" target=\"_parent\"><img src=\"https://colab.research.google.com/assets/colab-badge.svg\" alt=\"Open In Colab\"/></a>"
      ]
    },
    {
      "cell_type": "code",
      "execution_count": 1,
      "metadata": {
        "colab": {
          "base_uri": "https://localhost:8080/",
          "height": 88
        },
        "id": "VaCAAGB65DQ_",
        "outputId": "516c1a96-5e15-4806-9159-59cddbe9a11b"
      },
      "outputs": [
        {
          "output_type": "execute_result",
          "data": {
            "text/plain": [
              "'\\nGraph thrust required and thrust available at sea level, 10,000 ft, and 35,000 ft (fl350)\\n\\nProduced for \"Python for Mechanical and Aerospace Engineering\" by Alex Kenan, ISBN 978-1-7360606-0-5 and 978-1-7360606-1-2.\\nCopyright © 2020 Alexander Kenan. Some Rights Reserved. This work is licensed under a Creative Commons Attribution-NonCommercial-ShareAlike 4.0 International License. \\nSee http://creativecommons.org/licenses/by-nc-sa/4.0/ for more information.\\n'"
            ],
            "application/vnd.google.colaboratory.intrinsic+json": {
              "type": "string"
            }
          },
          "metadata": {},
          "execution_count": 1
        }
      ],
      "source": [
        "\"\"\"\n",
        "Graph thrust required and thrust available at sea level, 10,000 ft, and 35,000 ft (fl350)\n",
        "\n",
        "Produced for \"Python for Mechanical and Aerospace Engineering\" by Alex Kenan, ISBN 978-1-7360606-0-5 and 978-1-7360606-1-2.\n",
        "Copyright © 2020 Alexander Kenan. Some Rights Reserved. This work is licensed under a Creative Commons Attribution-NonCommercial-ShareAlike 4.0 International License. \n",
        "See http://creativecommons.org/licenses/by-nc-sa/4.0/ for more information.\n",
        "\"\"\""
      ]
    },
    {
      "cell_type": "code",
      "source": [
        "from numpy import pi\n",
        "import matplotlib.pyplot as plt\n"
      ],
      "metadata": {
        "id": "mXQ4s2jx6WCk"
      },
      "execution_count": 2,
      "outputs": []
    },
    {
      "cell_type": "code",
      "source": [
        "# Functions\n",
        "def knots_to_ftpersec(speed):\n",
        "    return speed * 1.68781\n",
        "\n",
        "\n",
        "def thrust_required(rho_inf, v_inf, s, cd0_, k, w):\n",
        "    cl = 2 * w / (rho_inf * v_inf ** 2 * s)\n",
        "    return 0.5 * rho_inf * v_inf ** 2 * s * (cd0_ + k * cl ** 2)"
      ],
      "metadata": {
        "id": "jsJLL1XJ6jO_"
      },
      "execution_count": 3,
      "outputs": []
    },
    {
      "cell_type": "code",
      "source": [
        "# Inputs\n",
        "\n",
        "weight = 200000  # lb\n",
        "wing_area = 1318  # ft^2\n",
        "wing_span = 117.416666667  # ft\n",
        "cd0 = 0.0185\n",
        "thrust = 66000  # lb of thrust total\n",
        "aspect_ratio = wing_span**2 / wing_area\n",
        "e = 0.92\n",
        "K = 1 / (pi * e * aspect_ratio)\n",
        "rho_sl = 23.77E-4  # in slugs/ft^3\n",
        "\n",
        "x_vals_sl = [i for i in range(80, 750, 10)]\n",
        "\n",
        "tr_sl = [thrust_required(rho_sl, knots_to_ftpersec(x), wing_area, cd0, K, weight) for x in x_vals_sl]\n"
      ],
      "metadata": {
        "id": "zYWnglGk777P"
      },
      "execution_count": 5,
      "outputs": []
    },
    {
      "cell_type": "code",
      "source": [
        "# Sea Level\n",
        "\n",
        "plt.subplot(3, 1, 1)\n",
        "plt.plot(x_vals_sl, tr_sl, 'k-', label=r\"$T_R$ at Sea Level\")\n",
        "TA_sl = 0.7 * thrust\n",
        "y_coords_sl = [TA_sl for _ in x_vals_sl]\n",
        "takeoff_vel_sl = [180, 180]\n",
        "cruise_velocity_sl_values = [11000, 46500]\n",
        "\n",
        "plt.plot(x_vals_sl, y_coords_sl, 'k--',\n",
        "          label='$T_A$ at Sea Level ({:,.0f} lb)'.format(TA_sl))\n",
        "\n",
        "plt.plot(takeoff_vel_sl, cruise_velocity_sl_values, 'b-.',\n",
        "         label=\"Takeoff Velocity ({} knots)\".format(takeoff_vel_sl[0]))\n",
        "plt.ylim(5000, 50000)\n",
        "plt.xlim(50, 1550)\n",
        "plt.ylabel('Thrust (lb)')\n",
        "#plt.xlabel('Velocity (kts)')\n",
        "plt.title('Thrust Required & Thrust Available Curves')\n",
        "plt.legend(loc='lower right')\n"
      ],
      "metadata": {
        "colab": {
          "base_uri": "https://localhost:8080/",
          "height": 145
        },
        "id": "meq6zyc09VVo",
        "outputId": "948fec5c-d7ef-43fc-8455-a3095a0581af"
      },
      "execution_count": 6,
      "outputs": [
        {
          "output_type": "execute_result",
          "data": {
            "text/plain": [
              "<matplotlib.legend.Legend at 0x7efc00f179d0>"
            ]
          },
          "metadata": {},
          "execution_count": 6
        },
        {
          "output_type": "display_data",
          "data": {
            "text/plain": [
              "<Figure size 432x288 with 1 Axes>"
            ],
            "image/png": "[encoded data removed]"
          },
          "metadata": {
            "needs_background": "light"
          }
        }
      ]
    },
    {
      "cell_type": "code",
      "source": [
        "# FL100\n",
        "plt.subplot(3, 1, 2)\n",
        "rho_fl100 = 17.56E-4  # in slugs/ft^3\n",
        "x_vals_fl100 = [i for i in range(110, 745, 10)]\n",
        "tr_fl100 = [thrust_required(rho_fl100, knots_to_ftpersec(x), wing_area, cd0, K, weight) for x in x_vals_fl100]\n",
        "TA_fl100 = 0.7 * thrust * rho_fl100 / rho_sl\n",
        "cruise_velocity = [250, 250]\n",
        "cruise_velocity_fl100_values = [10000, 34130]\n",
        "y_coords_fl100 = [TA_fl100 for _ in x_vals_fl100]\n",
        "\n",
        "\n",
        "plt.plot(x_vals_fl100, tr_fl100, 'k-', label=r\"$T_R$ at FL100\")\n",
        "\n",
        "plt.plot(x_vals_fl100, y_coords_fl100, 'k--',\n",
        "          label=\"$T_A$ at FL100 ({:,.0f} lb)\".format(TA_fl100))\n",
        "\n",
        "plt.plot(cruise_velocity, cruise_velocity_fl100_values, 'b-.',\n",
        "         label=\"Cruise Velocity ({} knots)\".format(cruise_velocity[0]))\n",
        "\n",
        "plt.ylabel('Thrust (lb)')\n",
        "plt.ylim(5000, 38000)\n",
        "plt.xlim(50, 1550)\n",
        "plt.legend(loc='lower right')"
      ],
      "metadata": {
        "colab": {
          "base_uri": "https://localhost:8080/",
          "height": 129
        },
        "id": "_e7m3LzH9gDa",
        "outputId": "fef85fe1-2ae1-48e5-bfdf-ea8682d3fd81"
      },
      "execution_count": 7,
      "outputs": [
        {
          "output_type": "execute_result",
          "data": {
            "text/plain": [
              "<matplotlib.legend.Legend at 0x7efc00de6790>"
            ]
          },
          "metadata": {},
          "execution_count": 7
        },
        {
          "output_type": "display_data",
          "data": {
            "text/plain": [
              "<Figure size 432x288 with 1 Axes>"
            ],
            "image/png": "[encoded data removed]"
          },
          "metadata": {
            "needs_background": "light"
          }
        }
      ]
    },
    {
      "cell_type": "code",
      "source": [
        "# FL350\n",
        "plt.subplot(3, 1, 3)\n",
        "rho_fl350 = 7.38E-4  # in slugs/ft^3\n",
        "cruise_velocity_fl350 = [450, 450]\n",
        "cruise_velocity_fl350_values = [9900, 14200]\n",
        "\n",
        "x_vals_fl350 = [i for i in range(280, 695, 10)]\n",
        "tr_fl350 = [thrust_required(rho_fl350, (knots_to_ftpersec(x)), wing_area, cd0, K, weight) for x in x_vals_fl350]\n",
        "\n",
        "TA_fl350 = 0.7 * thrust * rho_fl350 / rho_sl\n",
        "y_coords_fl350 = [TA_fl350 for _ in x_vals_fl350]\n",
        "\n",
        "plt.plot(x_vals_fl350, tr_fl350, 'k-', label=r\"$T_R$ at FL350\")\n",
        "plt.plot(x_vals_fl350, y_coords_fl350, 'k--',\n",
        "          label=r\"$T_A$ at FL350 ({:,.0f} lb)\".format(TA_fl350))\n",
        "\n",
        "plt.plot(cruise_velocity_fl350, cruise_velocity_fl350_values, 'b-.',\n",
        "         label=\"Cruise Velocity ({} knots)\".format(cruise_velocity_fl350[0]))\n",
        "\n",
        "plt.xlabel('Velocity (knots)')\n",
        "plt.ylabel('Thrust (lb)')\n",
        "plt.xlim(50, 1550)\n",
        "plt.ylim(9600, 15000)\n",
        "plt.legend(loc='lower right')\n",
        "plt.subplots_adjust(hspace=0.35)\n",
        "plt.show()"
      ],
      "metadata": {
        "colab": {
          "base_uri": "https://localhost:8080/",
          "height": 125
        },
        "id": "_X66Z6WQ9rmA",
        "outputId": "a642cf34-6d72-471a-da59-76f223e00105"
      },
      "execution_count": 8,
      "outputs": [
        {
          "output_type": "display_data",
          "data": {
            "text/plain": [
              "<Figure size 432x288 with 1 Axes>"
            ],
            "image/png": "[encoded data removed]"
          },
          "metadata": {
            "needs_background": "light"
          }
        }
      ]
    }
  ]
}